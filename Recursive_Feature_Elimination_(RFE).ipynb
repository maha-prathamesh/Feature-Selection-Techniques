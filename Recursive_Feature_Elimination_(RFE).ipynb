{
  "nbformat": 4,
  "nbformat_minor": 0,
  "metadata": {
    "colab": {
      "name": "Recursive Feature Elimination (RFE).ipynb",
      "provenance": [],
      "collapsed_sections": []
    },
    "kernelspec": {
      "name": "python3",
      "display_name": "Python 3"
    }
  },
  "cells": [
    {
      "cell_type": "code",
      "metadata": {
        "id": "ut6MbiMdRKSb"
      },
      "source": [
        "import numpy as np\n",
        "import pandas as pd\n",
        "import seaborn as sns\n",
        "import matplotlib.pyplot as plt\n",
        "%matplotlib inline"
      ],
      "execution_count": 1,
      "outputs": []
    },
    {
      "cell_type": "code",
      "metadata": {
        "id": "hBWDE0CyFSDG"
      },
      "source": [
        "from sklearn.model_selection import train_test_split\n",
        "from sklearn.ensemble import RandomForestClassifier\n",
        "from sklearn.feature_selection import SelectFromModel\n",
        "from sklearn.metrics import accuracy_score"
      ],
      "execution_count": 2,
      "outputs": []
    },
    {
      "cell_type": "code",
      "metadata": {
        "id": "4Yx12ASEFTvh"
      },
      "source": [
        "from sklearn.datasets import load_breast_cancer"
      ],
      "execution_count": 4,
      "outputs": []
    },
    {
      "cell_type": "code",
      "metadata": {
        "colab": {
          "base_uri": "https://localhost:8080/"
        },
        "id": "gt4gNZq4FXJK",
        "outputId": "e49c3480-1ca6-492f-90a0-e3b6ca9e2b9e"
      },
      "source": [
        "data = load_breast_cancer()\n",
        "data.keys()"
      ],
      "execution_count": 5,
      "outputs": [
        {
          "output_type": "execute_result",
          "data": {
            "text/plain": [
              "dict_keys(['data', 'target', 'target_names', 'DESCR', 'feature_names', 'filename'])"
            ]
          },
          "metadata": {
            "tags": []
          },
          "execution_count": 5
        }
      ]
    },
    {
      "cell_type": "code",
      "metadata": {
        "colab": {
          "base_uri": "https://localhost:8080/",
          "height": 254
        },
        "id": "PFe3Y6vhFbM4",
        "outputId": "7f6f9cca-f377-4b5d-93ed-bd0c0dde8fb7"
      },
      "source": [
        "X = pd.DataFrame(data = data.data, columns=data.feature_names)\n",
        "X.head()"
      ],
      "execution_count": 6,
      "outputs": [
        {
          "output_type": "execute_result",
          "data": {
            "text/html": [
              "<div>\n",
              "<style scoped>\n",
              "    .dataframe tbody tr th:only-of-type {\n",
              "        vertical-align: middle;\n",
              "    }\n",
              "\n",
              "    .dataframe tbody tr th {\n",
              "        vertical-align: top;\n",
              "    }\n",
              "\n",
              "    .dataframe thead th {\n",
              "        text-align: right;\n",
              "    }\n",
              "</style>\n",
              "<table border=\"1\" class=\"dataframe\">\n",
              "  <thead>\n",
              "    <tr style=\"text-align: right;\">\n",
              "      <th></th>\n",
              "      <th>mean radius</th>\n",
              "      <th>mean texture</th>\n",
              "      <th>mean perimeter</th>\n",
              "      <th>mean area</th>\n",
              "      <th>mean smoothness</th>\n",
              "      <th>mean compactness</th>\n",
              "      <th>mean concavity</th>\n",
              "      <th>mean concave points</th>\n",
              "      <th>mean symmetry</th>\n",
              "      <th>mean fractal dimension</th>\n",
              "      <th>radius error</th>\n",
              "      <th>texture error</th>\n",
              "      <th>perimeter error</th>\n",
              "      <th>area error</th>\n",
              "      <th>smoothness error</th>\n",
              "      <th>compactness error</th>\n",
              "      <th>concavity error</th>\n",
              "      <th>concave points error</th>\n",
              "      <th>symmetry error</th>\n",
              "      <th>fractal dimension error</th>\n",
              "      <th>worst radius</th>\n",
              "      <th>worst texture</th>\n",
              "      <th>worst perimeter</th>\n",
              "      <th>worst area</th>\n",
              "      <th>worst smoothness</th>\n",
              "      <th>worst compactness</th>\n",
              "      <th>worst concavity</th>\n",
              "      <th>worst concave points</th>\n",
              "      <th>worst symmetry</th>\n",
              "      <th>worst fractal dimension</th>\n",
              "    </tr>\n",
              "  </thead>\n",
              "  <tbody>\n",
              "    <tr>\n",
              "      <th>0</th>\n",
              "      <td>17.99</td>\n",
              "      <td>10.38</td>\n",
              "      <td>122.80</td>\n",
              "      <td>1001.0</td>\n",
              "      <td>0.11840</td>\n",
              "      <td>0.27760</td>\n",
              "      <td>0.3001</td>\n",
              "      <td>0.14710</td>\n",
              "      <td>0.2419</td>\n",
              "      <td>0.07871</td>\n",
              "      <td>1.0950</td>\n",
              "      <td>0.9053</td>\n",
              "      <td>8.589</td>\n",
              "      <td>153.40</td>\n",
              "      <td>0.006399</td>\n",
              "      <td>0.04904</td>\n",
              "      <td>0.05373</td>\n",
              "      <td>0.01587</td>\n",
              "      <td>0.03003</td>\n",
              "      <td>0.006193</td>\n",
              "      <td>25.38</td>\n",
              "      <td>17.33</td>\n",
              "      <td>184.60</td>\n",
              "      <td>2019.0</td>\n",
              "      <td>0.1622</td>\n",
              "      <td>0.6656</td>\n",
              "      <td>0.7119</td>\n",
              "      <td>0.2654</td>\n",
              "      <td>0.4601</td>\n",
              "      <td>0.11890</td>\n",
              "    </tr>\n",
              "    <tr>\n",
              "      <th>1</th>\n",
              "      <td>20.57</td>\n",
              "      <td>17.77</td>\n",
              "      <td>132.90</td>\n",
              "      <td>1326.0</td>\n",
              "      <td>0.08474</td>\n",
              "      <td>0.07864</td>\n",
              "      <td>0.0869</td>\n",
              "      <td>0.07017</td>\n",
              "      <td>0.1812</td>\n",
              "      <td>0.05667</td>\n",
              "      <td>0.5435</td>\n",
              "      <td>0.7339</td>\n",
              "      <td>3.398</td>\n",
              "      <td>74.08</td>\n",
              "      <td>0.005225</td>\n",
              "      <td>0.01308</td>\n",
              "      <td>0.01860</td>\n",
              "      <td>0.01340</td>\n",
              "      <td>0.01389</td>\n",
              "      <td>0.003532</td>\n",
              "      <td>24.99</td>\n",
              "      <td>23.41</td>\n",
              "      <td>158.80</td>\n",
              "      <td>1956.0</td>\n",
              "      <td>0.1238</td>\n",
              "      <td>0.1866</td>\n",
              "      <td>0.2416</td>\n",
              "      <td>0.1860</td>\n",
              "      <td>0.2750</td>\n",
              "      <td>0.08902</td>\n",
              "    </tr>\n",
              "    <tr>\n",
              "      <th>2</th>\n",
              "      <td>19.69</td>\n",
              "      <td>21.25</td>\n",
              "      <td>130.00</td>\n",
              "      <td>1203.0</td>\n",
              "      <td>0.10960</td>\n",
              "      <td>0.15990</td>\n",
              "      <td>0.1974</td>\n",
              "      <td>0.12790</td>\n",
              "      <td>0.2069</td>\n",
              "      <td>0.05999</td>\n",
              "      <td>0.7456</td>\n",
              "      <td>0.7869</td>\n",
              "      <td>4.585</td>\n",
              "      <td>94.03</td>\n",
              "      <td>0.006150</td>\n",
              "      <td>0.04006</td>\n",
              "      <td>0.03832</td>\n",
              "      <td>0.02058</td>\n",
              "      <td>0.02250</td>\n",
              "      <td>0.004571</td>\n",
              "      <td>23.57</td>\n",
              "      <td>25.53</td>\n",
              "      <td>152.50</td>\n",
              "      <td>1709.0</td>\n",
              "      <td>0.1444</td>\n",
              "      <td>0.4245</td>\n",
              "      <td>0.4504</td>\n",
              "      <td>0.2430</td>\n",
              "      <td>0.3613</td>\n",
              "      <td>0.08758</td>\n",
              "    </tr>\n",
              "    <tr>\n",
              "      <th>3</th>\n",
              "      <td>11.42</td>\n",
              "      <td>20.38</td>\n",
              "      <td>77.58</td>\n",
              "      <td>386.1</td>\n",
              "      <td>0.14250</td>\n",
              "      <td>0.28390</td>\n",
              "      <td>0.2414</td>\n",
              "      <td>0.10520</td>\n",
              "      <td>0.2597</td>\n",
              "      <td>0.09744</td>\n",
              "      <td>0.4956</td>\n",
              "      <td>1.1560</td>\n",
              "      <td>3.445</td>\n",
              "      <td>27.23</td>\n",
              "      <td>0.009110</td>\n",
              "      <td>0.07458</td>\n",
              "      <td>0.05661</td>\n",
              "      <td>0.01867</td>\n",
              "      <td>0.05963</td>\n",
              "      <td>0.009208</td>\n",
              "      <td>14.91</td>\n",
              "      <td>26.50</td>\n",
              "      <td>98.87</td>\n",
              "      <td>567.7</td>\n",
              "      <td>0.2098</td>\n",
              "      <td>0.8663</td>\n",
              "      <td>0.6869</td>\n",
              "      <td>0.2575</td>\n",
              "      <td>0.6638</td>\n",
              "      <td>0.17300</td>\n",
              "    </tr>\n",
              "    <tr>\n",
              "      <th>4</th>\n",
              "      <td>20.29</td>\n",
              "      <td>14.34</td>\n",
              "      <td>135.10</td>\n",
              "      <td>1297.0</td>\n",
              "      <td>0.10030</td>\n",
              "      <td>0.13280</td>\n",
              "      <td>0.1980</td>\n",
              "      <td>0.10430</td>\n",
              "      <td>0.1809</td>\n",
              "      <td>0.05883</td>\n",
              "      <td>0.7572</td>\n",
              "      <td>0.7813</td>\n",
              "      <td>5.438</td>\n",
              "      <td>94.44</td>\n",
              "      <td>0.011490</td>\n",
              "      <td>0.02461</td>\n",
              "      <td>0.05688</td>\n",
              "      <td>0.01885</td>\n",
              "      <td>0.01756</td>\n",
              "      <td>0.005115</td>\n",
              "      <td>22.54</td>\n",
              "      <td>16.67</td>\n",
              "      <td>152.20</td>\n",
              "      <td>1575.0</td>\n",
              "      <td>0.1374</td>\n",
              "      <td>0.2050</td>\n",
              "      <td>0.4000</td>\n",
              "      <td>0.1625</td>\n",
              "      <td>0.2364</td>\n",
              "      <td>0.07678</td>\n",
              "    </tr>\n",
              "  </tbody>\n",
              "</table>\n",
              "</div>"
            ],
            "text/plain": [
              "   mean radius  mean texture  ...  worst symmetry  worst fractal dimension\n",
              "0        17.99         10.38  ...          0.4601                  0.11890\n",
              "1        20.57         17.77  ...          0.2750                  0.08902\n",
              "2        19.69         21.25  ...          0.3613                  0.08758\n",
              "3        11.42         20.38  ...          0.6638                  0.17300\n",
              "4        20.29         14.34  ...          0.2364                  0.07678\n",
              "\n",
              "[5 rows x 30 columns]"
            ]
          },
          "metadata": {
            "tags": []
          },
          "execution_count": 6
        }
      ]
    },
    {
      "cell_type": "code",
      "metadata": {
        "id": "Llyl4mnPFevX"
      },
      "source": [
        "y = data.target"
      ],
      "execution_count": 7,
      "outputs": []
    },
    {
      "cell_type": "code",
      "metadata": {
        "colab": {
          "base_uri": "https://localhost:8080/"
        },
        "id": "iwZ5aZToFhBf",
        "outputId": "a30e0759-e2a5-4f00-f6c0-879ee6fd47f8"
      },
      "source": [
        "X_train, X_test, y_train, y_test = train_test_split(X,y, test_size = 0.2, random_state = 0)\n",
        "X_train.shape, X_test.shape"
      ],
      "execution_count": 8,
      "outputs": [
        {
          "output_type": "execute_result",
          "data": {
            "text/plain": [
              "((455, 30), (114, 30))"
            ]
          },
          "metadata": {
            "tags": []
          },
          "execution_count": 8
        }
      ]
    },
    {
      "cell_type": "code",
      "metadata": {
        "colab": {
          "base_uri": "https://localhost:8080/"
        },
        "id": "xOxw7NJSGPvo",
        "outputId": "3d36b6cd-a5fa-4d73-e3b8-731b015a193a"
      },
      "source": [
        "sel = SelectFromModel(RandomForestClassifier(n_estimators=100, random_state=0, n_jobs=-1))\n",
        "sel.fit(X_train, y_train)\n",
        "sel.get_support()"
      ],
      "execution_count": 9,
      "outputs": [
        {
          "output_type": "execute_result",
          "data": {
            "text/plain": [
              "array([ True, False,  True,  True, False, False,  True,  True, False,\n",
              "       False, False, False, False,  True, False, False, False, False,\n",
              "       False, False,  True, False,  True,  True, False, False, False,\n",
              "        True, False, False])"
            ]
          },
          "metadata": {
            "tags": []
          },
          "execution_count": 9
        }
      ]
    },
    {
      "cell_type": "code",
      "metadata": {
        "colab": {
          "base_uri": "https://localhost:8080/"
        },
        "id": "-a3UI0G-GSdd",
        "outputId": "f65fe041-c5e0-465c-dbf6-e434a36a03b4"
      },
      "source": [
        "X_train.columns"
      ],
      "execution_count": 10,
      "outputs": [
        {
          "output_type": "execute_result",
          "data": {
            "text/plain": [
              "Index(['mean radius', 'mean texture', 'mean perimeter', 'mean area',\n",
              "       'mean smoothness', 'mean compactness', 'mean concavity',\n",
              "       'mean concave points', 'mean symmetry', 'mean fractal dimension',\n",
              "       'radius error', 'texture error', 'perimeter error', 'area error',\n",
              "       'smoothness error', 'compactness error', 'concavity error',\n",
              "       'concave points error', 'symmetry error', 'fractal dimension error',\n",
              "       'worst radius', 'worst texture', 'worst perimeter', 'worst area',\n",
              "       'worst smoothness', 'worst compactness', 'worst concavity',\n",
              "       'worst concave points', 'worst symmetry', 'worst fractal dimension'],\n",
              "      dtype='object')"
            ]
          },
          "metadata": {
            "tags": []
          },
          "execution_count": 10
        }
      ]
    },
    {
      "cell_type": "code",
      "metadata": {
        "colab": {
          "base_uri": "https://localhost:8080/"
        },
        "id": "U8LSgeuGGU1-",
        "outputId": "ff48fbf4-c972-4c7b-b52e-f261a44eaad3"
      },
      "source": [
        "features = X_train.columns[sel.get_support()]\n",
        "features"
      ],
      "execution_count": 11,
      "outputs": [
        {
          "output_type": "execute_result",
          "data": {
            "text/plain": [
              "Index(['mean radius', 'mean perimeter', 'mean area', 'mean concavity',\n",
              "       'mean concave points', 'area error', 'worst radius', 'worst perimeter',\n",
              "       'worst area', 'worst concave points'],\n",
              "      dtype='object')"
            ]
          },
          "metadata": {
            "tags": []
          },
          "execution_count": 11
        }
      ]
    },
    {
      "cell_type": "code",
      "metadata": {
        "colab": {
          "base_uri": "https://localhost:8080/"
        },
        "id": "9uQqpgFnGXhK",
        "outputId": "85cd706b-1210-4d2b-8924-644adb222caf"
      },
      "source": [
        "len(features)"
      ],
      "execution_count": 12,
      "outputs": [
        {
          "output_type": "execute_result",
          "data": {
            "text/plain": [
              "10"
            ]
          },
          "metadata": {
            "tags": []
          },
          "execution_count": 12
        }
      ]
    },
    {
      "cell_type": "code",
      "metadata": {
        "colab": {
          "base_uri": "https://localhost:8080/"
        },
        "id": "WZbL9LkEGZj2",
        "outputId": "3912a3c6-be0a-43a0-f66c-6d12347bedd0"
      },
      "source": [
        "np.mean(sel.estimator_.feature_importances_)"
      ],
      "execution_count": 13,
      "outputs": [
        {
          "output_type": "execute_result",
          "data": {
            "text/plain": [
              "0.03333333333333334"
            ]
          },
          "metadata": {
            "tags": []
          },
          "execution_count": 13
        }
      ]
    },
    {
      "cell_type": "code",
      "metadata": {
        "colab": {
          "base_uri": "https://localhost:8080/"
        },
        "id": "nAgLk6hIGcga",
        "outputId": "b97c0e0c-0836-49f2-ae30-dc20aed13be7"
      },
      "source": [
        "sel.estimator_.feature_importances_"
      ],
      "execution_count": 14,
      "outputs": [
        {
          "output_type": "execute_result",
          "data": {
            "text/plain": [
              "array([0.03699612, 0.01561296, 0.06016409, 0.0371452 , 0.0063401 ,\n",
              "       0.00965994, 0.0798662 , 0.08669071, 0.00474992, 0.00417092,\n",
              "       0.02407355, 0.00548033, 0.01254423, 0.03880038, 0.00379521,\n",
              "       0.00435162, 0.00452503, 0.00556905, 0.00610635, 0.00528878,\n",
              "       0.09556258, 0.01859305, 0.17205401, 0.05065305, 0.00943096,\n",
              "       0.01565491, 0.02443166, 0.14202709, 0.00964898, 0.01001304])"
            ]
          },
          "metadata": {
            "tags": []
          },
          "execution_count": 14
        }
      ]
    },
    {
      "cell_type": "code",
      "metadata": {
        "id": "t_G-shf3Gsk7"
      },
      "source": [
        ""
      ],
      "execution_count": null,
      "outputs": []
    },
    {
      "cell_type": "code",
      "metadata": {
        "id": "RIiKO5d-Gvkd"
      },
      "source": [
        "X_train_rfc = sel.transform(X_train)\n",
        "X_test_rfc = sel.transform(X_test)"
      ],
      "execution_count": 15,
      "outputs": []
    },
    {
      "cell_type": "code",
      "metadata": {
        "id": "fZZWpDSWGwVl"
      },
      "source": [
        "def run_randomForest(X_train, X_test, y_train, y_test):\n",
        "    clf = RandomForestClassifier(n_estimators=100, random_state=0, n_jobs=-1)\n",
        "    clf.fit(X_train, y_train)\n",
        "    y_pred = clf.predict(X_test)\n",
        "    print('Accuracy: ', accuracy_score(y_test, y_pred))"
      ],
      "execution_count": 16,
      "outputs": []
    },
    {
      "cell_type": "code",
      "metadata": {
        "colab": {
          "base_uri": "https://localhost:8080/"
        },
        "id": "zChHFD1pGyp9",
        "outputId": "1d26d3fc-e856-4584-97d8-c8fa50eae96a"
      },
      "source": [
        "%%time\n",
        "run_randomForest(X_train_rfc, X_test_rfc, y_train, y_test)"
      ],
      "execution_count": 17,
      "outputs": [
        {
          "output_type": "stream",
          "text": [
            "Accuracy:  0.9473684210526315\n",
            "CPU times: user 309 ms, sys: 28.8 ms, total: 337 ms\n",
            "Wall time: 355 ms\n"
          ],
          "name": "stdout"
        }
      ]
    },
    {
      "cell_type": "code",
      "metadata": {
        "colab": {
          "base_uri": "https://localhost:8080/"
        },
        "id": "GGEFwDcQG0gB",
        "outputId": "12fb8bd7-051b-46ab-a432-b8b4a0afbe8e"
      },
      "source": [
        "%%time\n",
        "run_randomForest(X_train, X_test, y_train, y_test)"
      ],
      "execution_count": 18,
      "outputs": [
        {
          "output_type": "stream",
          "text": [
            "Accuracy:  0.9649122807017544\n",
            "CPU times: user 338 ms, sys: 33.4 ms, total: 371 ms\n",
            "Wall time: 459 ms\n"
          ],
          "name": "stdout"
        }
      ]
    },
    {
      "cell_type": "markdown",
      "metadata": {
        "id": "pWImwwX2G508"
      },
      "source": [
        "# Recursive Feature Elimination (RFE)"
      ]
    },
    {
      "cell_type": "code",
      "metadata": {
        "colab": {
          "base_uri": "https://localhost:8080/"
        },
        "id": "u5Iv4plRG3CR",
        "outputId": "68e37fd5-06ef-46c3-a6ca-e7e37d69eb35"
      },
      "source": [
        "from sklearn.feature_selection import RFE\n",
        "sel = RFE(RandomForestClassifier(n_estimators=100, random_state=0, n_jobs=-1), n_features_to_select = 15)\n",
        "sel.fit(X_train, y_train)"
      ],
      "execution_count": 19,
      "outputs": [
        {
          "output_type": "execute_result",
          "data": {
            "text/plain": [
              "RFE(estimator=RandomForestClassifier(bootstrap=True, ccp_alpha=0.0,\n",
              "                                     class_weight=None, criterion='gini',\n",
              "                                     max_depth=None, max_features='auto',\n",
              "                                     max_leaf_nodes=None, max_samples=None,\n",
              "                                     min_impurity_decrease=0.0,\n",
              "                                     min_impurity_split=None,\n",
              "                                     min_samples_leaf=1, min_samples_split=2,\n",
              "                                     min_weight_fraction_leaf=0.0,\n",
              "                                     n_estimators=100, n_jobs=-1,\n",
              "                                     oob_score=False, random_state=0, verbose=0,\n",
              "                                     warm_start=False),\n",
              "    n_features_to_select=15, step=1, verbose=0)"
            ]
          },
          "metadata": {
            "tags": []
          },
          "execution_count": 19
        }
      ]
    },
    {
      "cell_type": "code",
      "metadata": {
        "colab": {
          "base_uri": "https://localhost:8080/"
        },
        "id": "xQo44dBlG9y4",
        "outputId": "bf94e301-9ef6-45d2-d44a-25acdac622c4"
      },
      "source": [
        "sel.get_support()"
      ],
      "execution_count": 20,
      "outputs": [
        {
          "output_type": "execute_result",
          "data": {
            "text/plain": [
              "array([ True,  True,  True,  True, False, False,  True,  True, False,\n",
              "       False, False, False, False,  True, False, False, False, False,\n",
              "       False, False,  True,  True,  True,  True,  True, False,  True,\n",
              "        True,  True, False])"
            ]
          },
          "metadata": {
            "tags": []
          },
          "execution_count": 20
        }
      ]
    },
    {
      "cell_type": "code",
      "metadata": {
        "colab": {
          "base_uri": "https://localhost:8080/"
        },
        "id": "dQoYTBNKHAVf",
        "outputId": "f8eaa8da-36d9-4467-f5a0-4bb47a7c632a"
      },
      "source": [
        "features = X_train.columns[sel.get_support()]\n",
        "features"
      ],
      "execution_count": 21,
      "outputs": [
        {
          "output_type": "execute_result",
          "data": {
            "text/plain": [
              "Index(['mean radius', 'mean texture', 'mean perimeter', 'mean area',\n",
              "       'mean concavity', 'mean concave points', 'area error', 'worst radius',\n",
              "       'worst texture', 'worst perimeter', 'worst area', 'worst smoothness',\n",
              "       'worst concavity', 'worst concave points', 'worst symmetry'],\n",
              "      dtype='object')"
            ]
          },
          "metadata": {
            "tags": []
          },
          "execution_count": 21
        }
      ]
    },
    {
      "cell_type": "code",
      "metadata": {
        "colab": {
          "base_uri": "https://localhost:8080/"
        },
        "id": "KnSbrRfUHCrP",
        "outputId": "90d761b3-f7df-4bc5-b715-d47995a7105e"
      },
      "source": [
        "len(features)"
      ],
      "execution_count": 22,
      "outputs": [
        {
          "output_type": "execute_result",
          "data": {
            "text/plain": [
              "15"
            ]
          },
          "metadata": {
            "tags": []
          },
          "execution_count": 22
        }
      ]
    },
    {
      "cell_type": "code",
      "metadata": {
        "id": "EARzaTc8HFc8"
      },
      "source": [
        "X_train_rfe = sel.transform(X_train)\n",
        "X_test_rfe = sel.transform(X_test)"
      ],
      "execution_count": 23,
      "outputs": []
    },
    {
      "cell_type": "code",
      "metadata": {
        "colab": {
          "base_uri": "https://localhost:8080/"
        },
        "id": "OcCmDuHdHIHu",
        "outputId": "dbbeb6bd-f88e-4ceb-e181-86e6621e860e"
      },
      "source": [
        "%%time\n",
        "run_randomForest(X_train_rfe, X_test_rfe, y_train, y_test)"
      ],
      "execution_count": 24,
      "outputs": [
        {
          "output_type": "stream",
          "text": [
            "Accuracy:  0.9736842105263158\n",
            "CPU times: user 290 ms, sys: 34.9 ms, total: 325 ms\n",
            "Wall time: 361 ms\n"
          ],
          "name": "stdout"
        }
      ]
    },
    {
      "cell_type": "code",
      "metadata": {
        "colab": {
          "base_uri": "https://localhost:8080/"
        },
        "id": "pkjEm-jGHJ9m",
        "outputId": "f46aad3a-bf73-43c8-f5fd-70e6a374c20d"
      },
      "source": [
        "%%time\n",
        "run_randomForest(X_train, X_test, y_train, y_test)"
      ],
      "execution_count": 25,
      "outputs": [
        {
          "output_type": "stream",
          "text": [
            "Accuracy:  0.9649122807017544\n",
            "CPU times: user 329 ms, sys: 44.2 ms, total: 374 ms\n",
            "Wall time: 462 ms\n"
          ],
          "name": "stdout"
        }
      ]
    },
    {
      "cell_type": "code",
      "metadata": {
        "id": "nB8yemqhHMJr"
      },
      "source": [
        ""
      ],
      "execution_count": 25,
      "outputs": []
    },
    {
      "cell_type": "markdown",
      "metadata": {
        "id": "6AWEYYw8HM_k"
      },
      "source": [
        "# Feature selection by GradientBoost Tree Importance\n"
      ]
    },
    {
      "cell_type": "code",
      "metadata": {
        "id": "T2pGb_loHPZE"
      },
      "source": [
        "from sklearn.ensemble import GradientBoostingClassifier"
      ],
      "execution_count": 26,
      "outputs": []
    },
    {
      "cell_type": "code",
      "metadata": {
        "colab": {
          "base_uri": "https://localhost:8080/"
        },
        "id": "9vZeFz0BHPcI",
        "outputId": "0e44c170-59da-43b1-c9f2-83cc0f2d7f25"
      },
      "source": [
        "sel = RFE(GradientBoostingClassifier(n_estimators=100, random_state=0), n_features_to_select = 12)\n",
        "sel.fit(X_train, y_train)"
      ],
      "execution_count": 27,
      "outputs": [
        {
          "output_type": "execute_result",
          "data": {
            "text/plain": [
              "RFE(estimator=GradientBoostingClassifier(ccp_alpha=0.0,\n",
              "                                         criterion='friedman_mse', init=None,\n",
              "                                         learning_rate=0.1, loss='deviance',\n",
              "                                         max_depth=3, max_features=None,\n",
              "                                         max_leaf_nodes=None,\n",
              "                                         min_impurity_decrease=0.0,\n",
              "                                         min_impurity_split=None,\n",
              "                                         min_samples_leaf=1,\n",
              "                                         min_samples_split=2,\n",
              "                                         min_weight_fraction_leaf=0.0,\n",
              "                                         n_estimators=100,\n",
              "                                         n_iter_no_change=None,\n",
              "                                         presort='deprecated', random_state=0,\n",
              "                                         subsample=1.0, tol=0.0001,\n",
              "                                         validation_fraction=0.1, verbose=0,\n",
              "                                         warm_start=False),\n",
              "    n_features_to_select=12, step=1, verbose=0)"
            ]
          },
          "metadata": {
            "tags": []
          },
          "execution_count": 27
        }
      ]
    },
    {
      "cell_type": "code",
      "metadata": {
        "colab": {
          "base_uri": "https://localhost:8080/"
        },
        "id": "BKbCoCiOHPgS",
        "outputId": "c67f0377-f8ed-4a4e-8ab0-08ffd44c91ab"
      },
      "source": [
        "sel.get_support()"
      ],
      "execution_count": 28,
      "outputs": [
        {
          "output_type": "execute_result",
          "data": {
            "text/plain": [
              "array([False,  True, False, False,  True, False, False,  True,  True,\n",
              "       False, False, False, False,  True, False, False,  True, False,\n",
              "       False, False,  True,  True,  True,  True, False, False,  True,\n",
              "        True, False, False])"
            ]
          },
          "metadata": {
            "tags": []
          },
          "execution_count": 28
        }
      ]
    },
    {
      "cell_type": "code",
      "metadata": {
        "colab": {
          "base_uri": "https://localhost:8080/"
        },
        "id": "JLl0NOGiHPjn",
        "outputId": "4b1d73a7-35bc-40b0-a815-93fdae78648d"
      },
      "source": [
        "features = X_train.columns[sel.get_support()]\n",
        "features"
      ],
      "execution_count": 29,
      "outputs": [
        {
          "output_type": "execute_result",
          "data": {
            "text/plain": [
              "Index(['mean texture', 'mean smoothness', 'mean concave points',\n",
              "       'mean symmetry', 'area error', 'concavity error', 'worst radius',\n",
              "       'worst texture', 'worst perimeter', 'worst area', 'worst concavity',\n",
              "       'worst concave points'],\n",
              "      dtype='object')"
            ]
          },
          "metadata": {
            "tags": []
          },
          "execution_count": 29
        }
      ]
    },
    {
      "cell_type": "code",
      "metadata": {
        "colab": {
          "base_uri": "https://localhost:8080/"
        },
        "id": "rxZGa8U3HYt0",
        "outputId": "85b310e1-d98a-4cb8-c215-3ba1167d196f"
      },
      "source": [
        "len(features)"
      ],
      "execution_count": 30,
      "outputs": [
        {
          "output_type": "execute_result",
          "data": {
            "text/plain": [
              "12"
            ]
          },
          "metadata": {
            "tags": []
          },
          "execution_count": 30
        }
      ]
    },
    {
      "cell_type": "code",
      "metadata": {
        "id": "miprG_I-HaQs"
      },
      "source": [
        "X_train_rfe = sel.transform(X_train)\n",
        "X_test_rfe = sel.transform(X_test)"
      ],
      "execution_count": 33,
      "outputs": []
    },
    {
      "cell_type": "code",
      "metadata": {
        "colab": {
          "base_uri": "https://localhost:8080/"
        },
        "id": "tiGp6wWbHb4a",
        "outputId": "8843cedd-15a2-4881-fd2d-f28709853cab"
      },
      "source": [
        "%%time\n",
        "run_randomForest(X_train_rfe, X_test_rfe, y_train, y_test)"
      ],
      "execution_count": 34,
      "outputs": [
        {
          "output_type": "stream",
          "text": [
            "Accuracy:  0.9736842105263158\n",
            "CPU times: user 295 ms, sys: 38 ms, total: 333 ms\n",
            "Wall time: 367 ms\n"
          ],
          "name": "stdout"
        }
      ]
    },
    {
      "cell_type": "code",
      "metadata": {
        "colab": {
          "base_uri": "https://localhost:8080/"
        },
        "id": "M2uk1FqPHd1e",
        "outputId": "e705e243-7929-4922-80df-2b10af97914a"
      },
      "source": [
        "%%time\n",
        "run_randomForest(X_train, X_test, y_train, y_test)"
      ],
      "execution_count": 35,
      "outputs": [
        {
          "output_type": "stream",
          "text": [
            "Accuracy:  0.9649122807017544\n",
            "CPU times: user 344 ms, sys: 30.4 ms, total: 375 ms\n",
            "Wall time: 456 ms\n"
          ],
          "name": "stdout"
        }
      ]
    },
    {
      "cell_type": "code",
      "metadata": {
        "colab": {
          "base_uri": "https://localhost:8080/"
        },
        "id": "czOhtCXyHhDs",
        "outputId": "a24962b9-ec9f-4fda-9c19-de88f420d028"
      },
      "source": [
        "for index in range(1, 31):\n",
        "    sel = RFE(GradientBoostingClassifier(n_estimators=100, random_state=0), n_features_to_select = index)\n",
        "    sel.fit(X_train, y_train)\n",
        "    X_train_rfe = sel.transform(X_train)\n",
        "    X_test_rfe = sel.transform(X_test)\n",
        "    print('Selected Feature: ', index)\n",
        "    run_randomForest(X_train_rfe, X_test_rfe, y_train, y_test)\n",
        "    print()"
      ],
      "execution_count": 36,
      "outputs": [
        {
          "output_type": "stream",
          "text": [
            "Selected Feature:  1\n",
            "Accuracy:  0.8771929824561403\n",
            "\n",
            "Selected Feature:  2\n",
            "Accuracy:  0.9035087719298246\n",
            "\n",
            "Selected Feature:  3\n",
            "Accuracy:  0.9649122807017544\n",
            "\n",
            "Selected Feature:  4\n",
            "Accuracy:  0.9736842105263158\n",
            "\n",
            "Selected Feature:  5\n",
            "Accuracy:  0.9649122807017544\n",
            "\n",
            "Selected Feature:  6\n",
            "Accuracy:  0.9912280701754386\n",
            "\n",
            "Selected Feature:  7\n",
            "Accuracy:  0.9736842105263158\n",
            "\n",
            "Selected Feature:  8\n",
            "Accuracy:  0.9649122807017544\n",
            "\n",
            "Selected Feature:  9\n",
            "Accuracy:  0.9736842105263158\n",
            "\n",
            "Selected Feature:  10\n",
            "Accuracy:  0.956140350877193\n",
            "\n",
            "Selected Feature:  11\n",
            "Accuracy:  0.956140350877193\n",
            "\n",
            "Selected Feature:  12\n",
            "Accuracy:  0.9736842105263158\n",
            "\n",
            "Selected Feature:  13\n",
            "Accuracy:  0.956140350877193\n",
            "\n",
            "Selected Feature:  14\n",
            "Accuracy:  0.956140350877193\n",
            "\n",
            "Selected Feature:  15\n",
            "Accuracy:  0.9649122807017544\n",
            "\n",
            "Selected Feature:  16\n",
            "Accuracy:  0.956140350877193\n",
            "\n",
            "Selected Feature:  17\n",
            "Accuracy:  0.9649122807017544\n",
            "\n",
            "Selected Feature:  18\n",
            "Accuracy:  0.9473684210526315\n",
            "\n",
            "Selected Feature:  19\n",
            "Accuracy:  0.9649122807017544\n",
            "\n",
            "Selected Feature:  20\n",
            "Accuracy:  0.9473684210526315\n",
            "\n",
            "Selected Feature:  21\n",
            "Accuracy:  0.9649122807017544\n",
            "\n",
            "Selected Feature:  22\n",
            "Accuracy:  0.9649122807017544\n",
            "\n",
            "Selected Feature:  23\n",
            "Accuracy:  0.9649122807017544\n",
            "\n",
            "Selected Feature:  24\n",
            "Accuracy:  0.9649122807017544\n",
            "\n",
            "Selected Feature:  25\n",
            "Accuracy:  0.9736842105263158\n",
            "\n",
            "Selected Feature:  26\n",
            "Accuracy:  0.9736842105263158\n",
            "\n",
            "Selected Feature:  27\n",
            "Accuracy:  0.9649122807017544\n",
            "\n",
            "Selected Feature:  28\n",
            "Accuracy:  0.9649122807017544\n",
            "\n",
            "Selected Feature:  29\n",
            "Accuracy:  0.9649122807017544\n",
            "\n",
            "Selected Feature:  30\n",
            "Accuracy:  0.9649122807017544\n",
            "\n"
          ],
          "name": "stdout"
        }
      ]
    },
    {
      "cell_type": "code",
      "metadata": {
        "colab": {
          "base_uri": "https://localhost:8080/"
        },
        "id": "7l0i0GJHHjyc",
        "outputId": "748062b7-f612-4e30-c3f5-6cff76cc9f54"
      },
      "source": [
        "sel = RFE(GradientBoostingClassifier(n_estimators=100, random_state=0), n_features_to_select = 6)\n",
        "sel.fit(X_train, y_train)\n",
        "X_train_rfe = sel.transform(X_train)\n",
        "X_test_rfe = sel.transform(X_test)\n",
        "print('Selected Feature: ', 6)\n",
        "run_randomForest(X_train_rfe, X_test_rfe, y_train, y_test)\n",
        "print()"
      ],
      "execution_count": 37,
      "outputs": [
        {
          "output_type": "stream",
          "text": [
            "Selected Feature:  6\n",
            "Accuracy:  0.9912280701754386\n",
            "\n"
          ],
          "name": "stdout"
        }
      ]
    },
    {
      "cell_type": "code",
      "metadata": {
        "colab": {
          "base_uri": "https://localhost:8080/"
        },
        "id": "D87kpECmHmaN",
        "outputId": "6d95fec5-8e49-40e7-baf9-78e00a0bd88a"
      },
      "source": [
        "features = X_train.columns[sel.get_support()]\n",
        "features"
      ],
      "execution_count": 38,
      "outputs": [
        {
          "output_type": "execute_result",
          "data": {
            "text/plain": [
              "Index(['mean concave points', 'area error', 'worst texture', 'worst perimeter',\n",
              "       'worst area', 'worst concave points'],\n",
              "      dtype='object')"
            ]
          },
          "metadata": {
            "tags": []
          },
          "execution_count": 38
        }
      ]
    },
    {
      "cell_type": "code",
      "metadata": {
        "colab": {
          "base_uri": "https://localhost:8080/"
        },
        "id": "PqvA6P1aHpPY",
        "outputId": "8c1f8f66-d432-429c-c082-d26f3d0a5edd"
      },
      "source": [
        "for index in range(1, 31):\n",
        "    sel = RFE(RandomForestClassifier(n_estimators=100, random_state=0, n_jobs=-1), n_features_to_select = index)\n",
        "    sel.fit(X_train, y_train)\n",
        "    X_train_rfe = sel.transform(X_train)\n",
        "    X_test_rfe = sel.transform(X_test)\n",
        "    print('Selected Feature: ', index)\n",
        "    run_randomForest(X_train_rfe, X_test_rfe, y_train, y_test)\n",
        "    print()"
      ],
      "execution_count": null,
      "outputs": [
        {
          "output_type": "stream",
          "text": [
            "Selected Feature:  1\n",
            "Accuracy:  0.8947368421052632\n",
            "\n",
            "Selected Feature:  2\n",
            "Accuracy:  0.9298245614035088\n",
            "\n",
            "Selected Feature:  3\n",
            "Accuracy:  0.9473684210526315\n",
            "\n",
            "Selected Feature:  4\n",
            "Accuracy:  0.9649122807017544\n",
            "\n",
            "Selected Feature:  5\n",
            "Accuracy:  0.9649122807017544\n",
            "\n",
            "Selected Feature:  6\n",
            "Accuracy:  0.956140350877193\n",
            "\n",
            "Selected Feature:  7\n",
            "Accuracy:  0.956140350877193\n",
            "\n",
            "Selected Feature:  8\n",
            "Accuracy:  0.9649122807017544\n",
            "\n",
            "Selected Feature:  9\n",
            "Accuracy:  0.9736842105263158\n",
            "\n",
            "Selected Feature:  10\n",
            "Accuracy:  0.9736842105263158\n",
            "\n",
            "Selected Feature:  11\n",
            "Accuracy:  0.9649122807017544\n",
            "\n",
            "Selected Feature:  12\n",
            "Accuracy:  0.9736842105263158\n",
            "\n",
            "Selected Feature:  13\n",
            "Accuracy:  0.9649122807017544\n",
            "\n"
          ],
          "name": "stdout"
        }
      ]
    },
    {
      "cell_type": "code",
      "metadata": {
        "id": "4BWbg8ptHrpu"
      },
      "source": [
        ""
      ],
      "execution_count": null,
      "outputs": []
    }
  ]
}